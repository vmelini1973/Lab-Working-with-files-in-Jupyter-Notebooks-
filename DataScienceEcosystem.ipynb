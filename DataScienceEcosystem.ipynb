{
 "cells": [
  {
   "cell_type": "markdown",
   "id": "9567b769-e80a-4978-9263-db4e43e39b31",
   "metadata": {},
   "source": [
    "# Data Science Tools and Ecosystem"
   ]
  },
  {
   "cell_type": "markdown",
   "id": "7d3e0413-89fa-4ee8-b379-5a2d2b7db476",
   "metadata": {},
   "source": [
    "In this notebook, Data Science Tools and Ecosystem are summarized."
   ]
  },
  {
   "cell_type": "markdown",
   "id": "7b9328dd-a8ef-4316-83f9-c2d2edf3d99c",
   "metadata": {},
   "source": [
    "Some of the popular languages that Data  Scientists use are:"
   ]
  },
  {
   "cell_type": "code",
   "execution_count": null,
   "id": "c5bc38de-bf30-492b-a37b-12567b17f5d6",
   "metadata": {},
   "outputs": [],
   "source": []
  },
  {
   "cell_type": "markdown",
   "id": "bce55d8c-3d76-45ba-83ff-1a4e8896853f",
   "metadata": {},
   "source": [
    "1. Python\n",
    "2. R\n",
    "3. SQL"
   ]
  },
  {
   "cell_type": "code",
   "execution_count": null,
   "id": "8a224d87-dbda-4561-ac3f-2bd6c191ab98",
   "metadata": {},
   "outputs": [],
   "source": []
  },
  {
   "cell_type": "markdown",
   "id": "7e186fb9-9533-427a-b84b-1cb3c302b0ba",
   "metadata": {},
   "source": [
    "Some of the commonly used libraries used by Data Scientists include:"
   ]
  },
  {
   "cell_type": "code",
   "execution_count": null,
   "id": "662c0804-4ccf-4674-add9-65ab1735087a",
   "metadata": {},
   "outputs": [],
   "source": []
  },
  {
   "cell_type": "markdown",
   "id": "8b3ae449-dfc6-440b-bc42-8ebb21d0dce5",
   "metadata": {},
   "source": [
    "1. NumPy\n",
    "2. Pandas\n",
    "3. Matplotlib"
   ]
  },
  {
   "cell_type": "code",
   "execution_count": null,
   "id": "5e2d4a26-3e00-49f0-9bd0-bff00a4a527f",
   "metadata": {},
   "outputs": [],
   "source": []
  },
  {
   "cell_type": "markdown",
   "id": "89b2e3a0-f15d-4f03-bc37-84cd8261730a",
   "metadata": {},
   "source": [
    "| Data Science Tools       |\n",
    "|-------------------------|\n",
    "| Jupyter Notebook        |\n",
    "| RStudio                 |\n",
    "| Apache Zeppelin         |"
   ]
  },
  {
   "cell_type": "code",
   "execution_count": null,
   "id": "f1ac0c6f-9002-4bf5-ad06-995d104271cc",
   "metadata": {},
   "outputs": [],
   "source": []
  },
  {
   "cell_type": "markdown",
   "id": "6ed6a3b6-f1b4-476d-80e6-20e77fdb490c",
   "metadata": {},
   "source": [
    "### Below are a few examples of evaluating arithmetic expressions in Python."
   ]
  },
  {
   "cell_type": "code",
   "execution_count": null,
   "id": "a66b9ab8-1fdd-4461-a527-5c82fa158c6b",
   "metadata": {},
   "outputs": [],
   "source": []
  },
  {
   "cell_type": "raw",
   "id": "b0bce0ad-920e-4609-94a3-430ce93ec154",
   "metadata": {},
   "source": [
    "# This is a simple arithmetic expression to multiply then add integers."
   ]
  },
  {
   "cell_type": "code",
   "execution_count": null,
   "id": "2c4e312a-810d-443c-86fb-aaf5b608a237",
   "metadata": {},
   "outputs": [],
   "source": []
  },
  {
   "cell_type": "code",
   "execution_count": null,
   "id": "6e96b36d-7f91-466f-84b5-2f99f77aa7dd",
   "metadata": {},
   "outputs": [],
   "source": [
    "(3 * 4) + 5"
   ]
  },
  {
   "cell_type": "code",
   "execution_count": null,
   "id": "e04b0fd3-2c3b-41ff-b62a-b255ade67139",
   "metadata": {},
   "outputs": [],
   "source": []
  },
  {
   "cell_type": "markdown",
   "id": "ff0ac7f0-9ab9-40ee-bd32-ebeb5e247493",
   "metadata": {},
   "source": [
    "# This will convert 200 minutes to hours by dividing by 60."
   ]
  },
  {
   "cell_type": "code",
   "execution_count": null,
   "id": "b6198832-c822-407e-ac27-fbaf2943cb59",
   "metadata": {},
   "outputs": [],
   "source": []
  },
  {
   "cell_type": "code",
   "execution_count": null,
   "id": "d7788361-d650-4e0f-bfed-f40471051187",
   "metadata": {},
   "outputs": [],
   "source": [
    "200 / 60"
   ]
  },
  {
   "cell_type": "code",
   "execution_count": null,
   "id": "425eb58b-2421-4294-9f70-dbf228f55383",
   "metadata": {},
   "outputs": [],
   "source": []
  },
  {
   "cell_type": "code",
   "execution_count": null,
   "id": "4ac0cc33-f943-47e5-9434-770fb97c8740",
   "metadata": {},
   "outputs": [],
   "source": []
  },
  {
   "cell_type": "markdown",
   "id": "b5c0c8d6-f5dd-4e9f-a475-9df8ccd41482",
   "metadata": {},
   "source": [
    "**Objectives:**"
   ]
  },
  {
   "cell_type": "markdown",
   "id": "1522307a-0dad-428f-8b53-da27c6e1fa87",
   "metadata": {},
   "source": [
    "- List popular languages for Data Science.\n",
    "- Identify commonly used libraries.\n",
    "- Understand key Data Science tools.\n",
    "- Perform basic arithmetic expressions in Python.\n",
    "- Convert units using expressions."
   ]
  },
  {
   "cell_type": "code",
   "execution_count": null,
   "id": "025b6ced-fc90-4926-831c-8c020a8bf5dc",
   "metadata": {},
   "outputs": [],
   "source": []
  },
  {
   "cell_type": "markdown",
   "id": "9c637270-417e-4a95-8caf-99afd6af720f",
   "metadata": {},
   "source": [
    "## Author"
   ]
  },
  {
   "cell_type": "code",
   "execution_count": null,
   "id": "2269a59a-1da6-48ba-902f-3ba58f88151c",
   "metadata": {},
   "outputs": [],
   "source": []
  },
  {
   "cell_type": "code",
   "execution_count": null,
   "id": "b7c60509-e514-4307-a4d4-60972d7d0faf",
   "metadata": {},
   "outputs": [],
   "source": [
    "Víctor Melini"
   ]
  },
  {
   "cell_type": "code",
   "execution_count": null,
   "id": "1eeccf86-da13-4acd-bea9-f55462fbaf95",
   "metadata": {},
   "outputs": [],
   "source": []
  },
  {
   "cell_type": "code",
   "execution_count": null,
   "id": "ebf49977-4ddb-4833-9bd3-8d7b60a5fd0f",
   "metadata": {},
   "outputs": [],
   "source": []
  }
 ],
 "metadata": {
  "kernelspec": {
   "display_name": "Python 3 (ipykernel)",
   "language": "python",
   "name": "python3"
  },
  "language_info": {
   "codemirror_mode": {
    "name": "ipython",
    "version": 3
   },
   "file_extension": ".py",
   "mimetype": "text/x-python",
   "name": "python",
   "nbconvert_exporter": "python",
   "pygments_lexer": "ipython3",
   "version": "3.12.8"
  }
 },
 "nbformat": 4,
 "nbformat_minor": 5
}
